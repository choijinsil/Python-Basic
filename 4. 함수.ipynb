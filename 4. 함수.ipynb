{
 "cells": [
  {
   "cell_type": "code",
   "execution_count": null,
   "metadata": {},
   "outputs": [],
   "source": [
    "# 메서드(Method)라고도 한다.\n",
    "# 독립된 프로그램이다.\n",
    "# 반복되는 내용을 묶어서 처리한다.\n",
    "# 반드시 호출한 곳으로 되돌아온다.\n",
    "# 인수는 개수에 상관없다.\n",
    "# (C java)return값이 없으면 void다.\n",
    "# (C java)return값은 한 개 뿐이다."
   ]
  },
  {
   "cell_type": "code",
   "execution_count": 2,
   "metadata": {},
   "outputs": [
    {
     "name": "stdout",
     "output_type": "stream",
     "text": [
      "합 : 30\n",
      "곱 : 15\n"
     ]
    }
   ],
   "source": [
    "a, b = 5, 2            #전역변수\n",
    "\n",
    "def hap() :\n",
    "    a, b = 10, 20      #지역변수\n",
    "    print( \"합 : \" + str( a+b ) )\n",
    "def gop() :\n",
    "    a, b = 3, 5\n",
    "    print( \"곱 : \" + str( a*b ) )\n",
    "hap()\n",
    "gop() "
   ]
  },
  {
   "cell_type": "code",
   "execution_count": 3,
   "metadata": {},
   "outputs": [
    {
     "name": "stdout",
     "output_type": "stream",
     "text": [
      "합 : 7\n",
      "합 : 12.5\n",
      "합 : 14\n"
     ]
    }
   ],
   "source": [
    "# 키워드 인수 - 매개변수의 초기값\n",
    "\n",
    "# C\n",
    "# int hapInt( int a, int b)               <-hapInt( 정수, 정수 )\n",
    "# int hapDouble( double a, double b)      <-hapDouble( 실수, 실수 )\n",
    "\n",
    "# C++ , Java\n",
    "# 오버로드      함수의 이름은 같지만 매ㅐ변수의 자료형이 다르거나,\n",
    "#               개수가 다르거나, 순서가 다르면 다른 함수로 취급\n",
    "# int hap( int a, int b)                  <-hap( 정수, 정수 )\n",
    "# int hap( double a, double b)            <-hap( 실수, 실수)\n",
    "# int hap( int a, int b, int c )          <-hap( 정수, 정수, 정수 )\n",
    "\n",
    "# Python (오버로드 안됨.)\n",
    "# def hap( a, b )                         <-hap( 정수, 정수) <-hap( 실수, 실수 )\n",
    "\n",
    "\n",
    "# def hap(a,b) :\n",
    "#     print( \"합 : \" + str(a+b) )\n",
    "def hap(a, b=0, c=0) :                   #매개변수 갯수가 다를때의 오류 방지\n",
    "    print( \"합 : \" + str(a+b+c) )\n",
    "hap(5,2)\n",
    "hap(5.3, 7.2)\n",
    "hap(3, 5, 6)\n",
    "# hap()"
   ]
  },
  {
   "cell_type": "code",
   "execution_count": 5,
   "metadata": {},
   "outputs": [
    {
     "name": "stdout",
     "output_type": "stream",
     "text": [
      "합계 : 685\n",
      "합계 : 685\n",
      "합계 : 685\n",
      "합계 : 1370\n"
     ]
    }
   ],
   "source": [
    "def hap( scores ) :\n",
    "    sum = 0\n",
    "    for score in scores :\n",
    "        sum += score\n",
    "    print( \"합계 : \" + str( sum ) )\n",
    "\n",
    "scores = [ 95, 75, 91, 46, 78, 68, 81, 73, 24, 54 ]\n",
    "hap( scores )\n",
    "scores = ( 95, 75, 91, 46, 78, 68, 81, 73, 24, 54 )\n",
    "hap( scores )\n",
    "scores = set( [ 95, 75, 91, 46, 78, 68, 81, 73, 24, 54 ] )\n",
    "hap( scores ) \n",
    "scores = [ 95, 75, 91, 46, 78, 68, 81, 73, 24, 54, 95, 75, 91, 46, 78, 68, 81, 73, 24, 54 ]\n",
    "hap( scores )"
   ]
  },
  {
   "cell_type": "code",
   "execution_count": 7,
   "metadata": {},
   "outputs": [
    {
     "name": "stdout",
     "output_type": "stream",
     "text": [
      "7\n",
      "합: (7, 3, 10, 2.5)\n",
      "차: 3\n",
      "합: 10\n",
      "차: -4\n",
      "곱: 21\n",
      "몫: 0.42857142857142855\n"
     ]
    }
   ],
   "source": [
    "def hap( a, b) :\n",
    "    return a+b\n",
    "    return a*b\n",
    "    return a-b\n",
    "print(str(hap(5,2))) # 1번째 줄만 실행되고 이후엔 실행이 안된다.\n",
    "\n",
    "def calc( a, b) :\n",
    "    return a+b,a-b,a*b,a/b #다중 return 가능\n",
    "result=calc(5,2) #데이터를 받는 방식\n",
    "print(\"합: \"+str(result)) # 튜플로 받아진다.\n",
    "print(\"차: \"+str(result[1])) # 방 선택 출력 가능\n",
    "\n",
    "hap,cha, gop,mok=calc(3,7)\n",
    "print(\"합: \"+str(hap)) \n",
    "print(\"차: \"+str(cha)) \n",
    "print(\"곱: \"+str(gop)) \n",
    "print(\"몫: \"+str(mok)) \n",
    "\n",
    "# 몇번 더 타이핑 해보기\n"
   ]
  },
  {
   "cell_type": "code",
   "execution_count": 8,
   "metadata": {},
   "outputs": [
    {
     "name": "stdout",
     "output_type": "stream",
     "text": [
      "합: 0\n",
      "합: 5\n",
      "합: 7\n",
      "합: 14\n"
     ]
    }
   ],
   "source": [
    "# Variable Arguments\n",
    "#def hap(a=0,b=0,c=0):  # 매개변수에 초기값을 넣어지면 데이터 바뀌는것을 다 받을 수 있다.\n",
    "                       # 넘어가는 데이터가 모두 같은 타입이 아니면 열거형 자료에 넘길 수 없다. \n",
    "#    return a+b+c\n",
    "\n",
    "def hap(*params): #variable함수로 아주 중요한 것이다. params는 튜플이다. \n",
    "    sum=0\n",
    "    for param in params:\n",
    "        sum+=param\n",
    "    return sum\n",
    "\n",
    "print(\"합: \" +str(hap()))\n",
    "print(\"합: \" +str(hap(5)))\n",
    "print(\"합: \" +str(hap(5,2)))\n",
    "print(\"합: \" +str(hap(5,2,7)))"
   ]
  },
  {
   "cell_type": "code",
   "execution_count": 9,
   "metadata": {},
   "outputs": [
    {
     "name": "stdout",
     "output_type": "stream",
     "text": [
      "합: 21\n"
     ]
    }
   ],
   "source": [
    "def hap( s, *params) :\n",
    "    sum = 0\n",
    "    for param in params:\n",
    "        sum+=param\n",
    "    return s+str(sum)\n",
    "\n",
    "print(hap(\"합: \",2,4,7,8))"
   ]
  },
  {
   "cell_type": "code",
   "execution_count": 10,
   "metadata": {},
   "outputs": [
    {
     "name": "stdout",
     "output_type": "stream",
     "text": [
      "<class 'dict'>\n",
      "합은:7\n",
      "<class 'dict'>\n",
      "합은:30\n"
     ]
    }
   ],
   "source": [
    "def hap( **ps):\n",
    "    print(type(ps))\n",
    "    return ps[\"a\"]+ps[\"b\"]\n",
    "print(\"합은:\"+str(hap(a=5, b=2)))\n",
    "print(\"합은:\"+str(hap(b=10, a=20))) # 매개변수의 순서가 필요 없다.\n"
   ]
  },
  {
   "cell_type": "code",
   "execution_count": null,
   "metadata": {},
   "outputs": [],
   "source": [
    "# print(dir())\n",
    "# %who\n",
    "# a=10\n",
    "# print(dir()) 현재 모듈 (파일) 안의 식별자 목록\n",
    "import sys\n",
    "print(dir(sys)) # sys 모듈안의 식별자 목록\n"
   ]
  },
  {
   "cell_type": "code",
   "execution_count": null,
   "metadata": {},
   "outputs": [],
   "source": [
    "a=\"ABC\"\n",
    "b=\"ABC\"\n",
    "print(hex(id(a)))\n",
    "print(hex(id(b)))\n",
    "\n",
    "c=\"Hello Python\"\n",
    "d=\"Hello Python\"\n",
    "print(hex(id(c)))\n",
    "print(hex(id(d)))\n",
    "\n",
    "# 주소 값 비교\n",
    "if c is d: \n",
    "    print(\"같다\")\n",
    "else:\n",
    "    print(\"다르다\")\n",
    "# 값 비교\n",
    "if c==d:\n",
    "    print(\"같다\")\n",
    "else:\n",
    "    print(\"다르다\")"
   ]
  },
  {
   "cell_type": "code",
   "execution_count": 7,
   "metadata": {},
   "outputs": [
    {
     "name": "stdout",
     "output_type": "stream",
     "text": [
      "[10, 60, 40, 20, 70, 30]\n",
      "[10, 20, 30, 40, 60, 70]\n",
      "[(4, 10), (3, 60), (1, 40), (0, 20), (2, 70), (5, 30)]\n",
      "[(10, 10), (20, 20), (30, 30), (40, 40), (60, 60), (70, 70)]\n"
     ]
    }
   ],
   "source": [
    "m=[10,60,40,20,70,30]\n",
    "n=[4,3,1,0,2,5]\n",
    "print(m)\n",
    "#오름차순 정렬 sort\n",
    "print(sorted(m))\n",
    "print(list(zip(n,m)))\n",
    "print(list(zip(sorted(m),sorted(m))))\n"
   ]
  },
  {
   "cell_type": "code",
   "execution_count": 18,
   "metadata": {},
   "outputs": [
    {
     "name": "stdout",
     "output_type": "stream",
     "text": [
      "합: 7\n",
      "합: 7\n",
      "합: 7\n",
      "합: 7\n"
     ]
    }
   ],
   "source": [
    "# 람다다다다!!\n",
    "\n",
    "def hap(a,b):\n",
    "    return a+b\n",
    "print(\"합: \"+str(hap(5,2)))\n",
    "\n",
    "# 람다는 함수를 간단히 일회용으로 사용할때\n",
    "add = lambda a,b : a+b\n",
    "print(\"합: \"+str(add(5,2)))\n",
    "\n",
    "print(\"합: \"+ str((lambda a, b : a + b)(5,2)))\n",
    "\n",
    "func=[ lambda a,b : a+ b, 5,2]\n",
    "print(\"합: \"+str(func[0](func[1],func[2])))"
   ]
  },
  {
   "cell_type": "code",
   "execution_count": 29,
   "metadata": {},
   "outputs": [
    {
     "name": "stdout",
     "output_type": "stream",
     "text": [
      "0 2 4 6 8 \n",
      "[0, 2, 4, 6, 8]\n",
      "[1, 3, 5, 7, 9]\n",
      "[1, 3, 5, 7, 9]\n"
     ]
    }
   ],
   "source": [
    "# filter\n",
    "lst=range(10) # 0~9\n",
    "def even(x):\n",
    "    return x%2==0 # True or Flase\n",
    "# print(even(0))\n",
    "# print(even(1))\n",
    "\n",
    "for i in lst:\n",
    "    if even(i):\n",
    "        print(i,end=\" \")\n",
    "print()\n",
    "print(list(filter(even,lst))) # 짝수로 만들어 리스트 출력\n",
    "print(list(filter( lambda x: x%2, lst)))\n",
    "print(list(filter( lambda x: x%2, range(10))))\n"
   ]
  },
  {
   "cell_type": "code",
   "execution_count": 36,
   "metadata": {},
   "outputs": [
    {
     "name": "stdout",
     "output_type": "stream",
     "text": [
      "[0, 1, 4, 9, 16, 25, 36, 49, 64, 81]\n",
      "45\n"
     ]
    }
   ],
   "source": [
    "print(list(map(lambda x : x**2 , range(10))))\n",
    "from functools import reduce\n",
    "# reduce는 합치는 개녑\n",
    "print( reduce(lambda x, y : x+y, range(10)))"
   ]
  }
 ],
 "metadata": {
  "kernelspec": {
   "display_name": "Python 3",
   "language": "python",
   "name": "python3"
  },
  "language_info": {
   "codemirror_mode": {
    "name": "ipython",
    "version": 3
   },
   "file_extension": ".py",
   "mimetype": "text/x-python",
   "name": "python",
   "nbconvert_exporter": "python",
   "pygments_lexer": "ipython3",
   "version": "3.6.5"
  }
 },
 "nbformat": 4,
 "nbformat_minor": 2
}
