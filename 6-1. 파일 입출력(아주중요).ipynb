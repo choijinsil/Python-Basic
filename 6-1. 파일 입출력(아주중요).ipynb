{
 "cells": [
  {
   "cell_type": "code",
   "execution_count": null,
   "metadata": {
    "scrolled": true
   },
   "outputs": [],
   "source": [
    "# 파일 입출력(아주중요)\n",
    "# import할 필요가 없다\n",
    "# 통로를 열어라 open\n",
    "# 원래 trycatch로 예외처리를 해줘야 한다.\n",
    "import random\n",
    "# 현재폴더 생략, w 읽기 쓰기, a는 이어쓰기\n",
    "f= open( \"a.txt\",\"w\")\n",
    "for i in range(1,101):\n",
    "    # write는 버퍼에 출력하게 된다. - 임시 기억장치\n",
    "    # 버퍼가 차거나 강제로 내보내거나 프로그램이 종료되면 보여짐\n",
    "    f.write(chr(random.randint(65,90)))\n",
    "    if i%10==0:\n",
    "        f.write(\"\\n\")\n",
    "print(\"출력종료\")\n",
    "\n",
    "# f.flush\n",
    "f.close()\n",
    "\n",
    "try:\n",
    "    f= open( \"a.txt\",\"r\")\n",
    "    # r는 한글자씩 읽는다.\n",
    "#     f=open(\"a.txt\",\"r\")\n",
    "#     while True:\n",
    "#         ch=f.read()\n",
    "#         if not ch:\n",
    "#             break\n",
    "#         print(ch)\n",
    "#     print()\n",
    "\n",
    "#한줄씩 읽어라\n",
    "#     while True:\n",
    "#         line=f.readline()\n",
    "#         if not line:\n",
    "#             break\n",
    "#         print(line,end=\"\")\n",
    "#     print()\n",
    "\n",
    "#     for line in f: # 위 방법과 똑같이 한줄씩 읽는다. readline()과 같다.\n",
    "#         print(line, end=\"\")\n",
    "#     print()\n",
    "\n",
    "    lines=f.readlines()\n",
    "    print(lines[0])\n",
    "    for line in lines:\n",
    "        print(line,end=\"\")\n",
    "    print()\n",
    "\n",
    "except:\n",
    "    print(\"파일명을 확인하세요.\")\n",
    "else:\n",
    "    print(\"파일 입력 성공\")\n",
    "finally:\n",
    "    f.close()\n",
    "with open(\"a.txt\",\"r\") as f: # 자동 close() 가 된다.\n",
    "    lines = f.readlines()\n",
    "    print(lines)\n",
    "   # print(lines[0][1:5])"
   ]
  },
  {
   "cell_type": "code",
   "execution_count": null,
   "metadata": {},
   "outputs": [],
   "source": [
    "import random\n",
    "f=open(\"lotto.txt\",\"w\")\n",
    "for j in range(10):\n",
    "    lst=[]\n",
    "    for i in range(6): \n",
    "        lst.append(random.randint(1,45))\n",
    "    lst.sort()\n",
    "    for i in range(6):\n",
    "        f.write(str(lst[i])+\"\\t\")\n",
    "    f.write(\"\\n\")\n",
    "f.close()"
   ]
  },
  {
   "cell_type": "code",
   "execution_count": null,
   "metadata": {},
   "outputs": [],
   "source": [
    "\n",
    "# 위와 같은 예시\n",
    "import random\n",
    "for j in range(10):\n",
    "    lst=[]\n",
    "    for i in range(6): \n",
    "        lst.append(random.randint(1,45))\n",
    "    sorted(lst)\n",
    "    with open(\"lotto2.txt\",\"a\") as f:\n",
    "        for i in lst:\n",
    "            f.write(str(i) + \" \")\n",
    "        f.write(\"\\n\")    \n",
    "        print()"
   ]
  },
  {
   "cell_type": "code",
   "execution_count": null,
   "metadata": {},
   "outputs": [],
   "source": [
    "import csv\n",
    "with open(\"spring.csv\",\"r\") as fr, open(\"result.csv\",\"w\", newline=\"\") as fw:\n",
    "    cr=csv.reader(fr)\n",
    "    cw=csv.writer(fw)\n",
    "    cnt=0\n",
    "    \n",
    "    for line in cr:\n",
    "        if line[8]==\"부적합\":\n",
    "            lst=[]\n",
    "            cnt +=1\n",
    "            # print(line[0]+\":\"+line[8])  \n",
    "            lst.append(line[0])\n",
    "            lst.append(line[8])\n",
    "            cw.writerow(lst)\n",
    "    print(\"부적합수: \"+str(cnt))\n",
    "    "
   ]
  },
  {
   "cell_type": "code",
   "execution_count": null,
   "metadata": {},
   "outputs": [],
   "source": [
    "import csv\n",
    "with open(\"seoul_store.csv\",\"r\") as fr, open(\"seoulrt.csv\",\"w\",newline=\"\") as fw:\n",
    "    cr=csv.reader(fr)\n",
    "    cw=csv.writer(fw)\n",
    "    cnt=0\n",
    "    \n",
    "    for line in cr:\n",
    "        if line[1]==\"강남구\":\n",
    "            lst=[]\n",
    "            cnt +=1\n",
    "            lst.append(line[1])\n",
    "            lst.append(line[2])\n",
    "            cw.writerow(lst)\n",
    "    print(\"총 상가 수: \"+str(cnt))\n"
   ]
  },
  {
   "cell_type": "code",
   "execution_count": 5,
   "metadata": {},
   "outputs": [],
   "source": [
    "# tsv는 탭으로 데이터가 띄어져 있다.\n",
    "with open( \"spring.csv\",\"r\" ) as fr, open( \"spring.tsv\",\"w\",newline=\"\") as fw :\n",
    "    cr=csv.reader(fr)\n",
    "    for line in cr:\n",
    "        for data in line :\n",
    "            fw.write(data+\"\\t\")\n",
    "        fw.write(\"\\n\")"
   ]
  },
  {
   "cell_type": "code",
   "execution_count": 10,
   "metadata": {},
   "outputs": [
    {
     "name": "stdout",
     "output_type": "stream",
     "text": [
      "부적합수: 402\n"
     ]
    }
   ],
   "source": [
    "# tsv csv와 다 같고 파일 이름만 바꾸면 된다.\n",
    "import csv\n",
    "with open(\"spring.tsv\",\"r\") as fr, open(\"reslut.tsv\",\"w\",newline=\"\") as fw:\n",
    "    cr=csv.reader(fr, delimiter=\"\\t\")\n",
    "    cw=csv.writer(fw, delimiter=\"\\t\")\n",
    "    cnt=0\n",
    "    \n",
    "    for line in cr:\n",
    "        if line[8]==\"부적합\":\n",
    "            lst=[]\n",
    "            cnt +=1\n",
    "            # print(line[0]+\":\"+line[8])  \n",
    "            lst.append(line[0])\n",
    "            lst.append(line[8])\n",
    "            cw.writerow(lst)\n",
    "    print(\"부적합수: \"+str(cnt))\n"
   ]
  }
 ],
 "metadata": {
  "kernelspec": {
   "display_name": "Python 3",
   "language": "python",
   "name": "python3"
  },
  "language_info": {
   "codemirror_mode": {
    "name": "ipython",
    "version": 3
   },
   "file_extension": ".py",
   "mimetype": "text/x-python",
   "name": "python",
   "nbconvert_exporter": "python",
   "pygments_lexer": "ipython3",
   "version": "3.6.5"
  }
 },
 "nbformat": 4,
 "nbformat_minor": 2
}
