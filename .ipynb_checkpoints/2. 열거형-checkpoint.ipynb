{
 "cells": [
  {
   "cell_type": "code",
   "execution_count": 8,
   "metadata": {},
   "outputs": [
    {
     "name": "stdout",
     "output_type": "stream",
     "text": [
      "125\n",
      "-2\n",
      "-2\n",
      "-6\n",
      "-5\n",
      "-5\n",
      "2.5\n",
      "2.5\n",
      "2\n",
      "0\n"
     ]
    }
   ],
   "source": [
    "# 거듭제곱 연산자\n",
    "print (5**3)\n",
    "\n",
    "# 부호, 1의 보수연산자, 2의 보수 연산자\n",
    "print(3-5)\n",
    "print(+3+-5)\n",
    "\n",
    "a=5\n",
    "print(~a)# 1의 보수 연산자\n",
    "print(~a+1)\n",
    "print(-a) # 2의 보수 연산자\n",
    "\n",
    "# 산술연산자\n",
    "print(5 / 2) \n",
    "print(5/2.0)\n",
    "print(5//2) #몫\n",
    "print(5%1) #나머지"
   ]
  },
  {
   "cell_type": "code",
   "execution_count": 29,
   "metadata": {},
   "outputs": [
    {
     "name": "stdout",
     "output_type": "stream",
     "text": [
      "4\n",
      "28\n",
      "24\n",
      "True\n",
      "False\n",
      "False\n",
      "False\n",
      "True and\n",
      "False or\n",
      "True\n",
      "False\n",
      "False\n",
      "False\n",
      "True\n"
     ]
    }
   ],
   "source": [
    "a=12\n",
    "b=20\n",
    "print(a & b)\n",
    "print(a | b)\n",
    "print(a ^ b)\n",
    "\n",
    "# 논리연산자\n",
    "print( True and True )\n",
    "print( False and True)\n",
    "print(True and False)\n",
    "print(False and False)\n",
    "\n",
    "# 짧은 조건문\n",
    "True and print(\"True and\")\n",
    "False and print(\"False and\")\n",
    "True or print(\"True or\")\n",
    "False or print(\"False or\")\n",
    "\n",
    "# 비교연산자\n",
    "a, b=2, 2\n",
    "print(a==b)\n",
    "print(a!=b)\n",
    "print(a>b)\n",
    "print(a<b)\n",
    "\n",
    "# 뒤의 단어에 앞의 단어가 포하되어 있는지?\n",
    "print(\"H\" in \"Hello Python!!!\")\n",
    "# 소대문자는 다른 것으로 취급한다.\n"
   ]
  },
  {
   "cell_type": "code",
   "execution_count": 54,
   "metadata": {},
   "outputs": [
    {
     "name": "stdout",
     "output_type": "stream",
     "text": [
      "True\n",
      "True\n",
      "a : 0x1553515dbc8\n",
      "b : 0x1553515dbc8\n",
      "===============\n",
      "True\n",
      "True\n",
      "c : 0x1553513f6f0\n",
      "b : 0x1553513f6f0\n"
     ]
    }
   ],
   "source": [
    "# is == 참조값을 얘기 하는 것이다.\n",
    "# is not !=\n",
    "# print(12345==12345)\n",
    "a=\"123\"\n",
    "b=\"123\"\n",
    "\n",
    "print(a is b)\n",
    "print(a == b)\n",
    "print(\"a : \"+str(hex(id(a))))\n",
    "print(\"b : \"+str(hex(id(b))))\n",
    "print(\"=\"*15)\n",
    "c=\"HelloPython!!!\"\n",
    "d=\"HelloPython!!!\"\n",
    "\n",
    "#주소비교\n",
    "print(c is d)\n",
    "\n",
    "# 값 비교\n",
    "print(c==d)\n",
    "print(\"c : \"+str(hex(id(c))))\n",
    "print(\"b : \"+str(hex(id(d))))\n",
    "# 다른언어에서는 메모리를 하나만 만들지만 파이썬에서는 메모리를 두개 만든다. ==등호 사용시 주소비교를 해버리기 때문에 실제론 데이터 \n",
    "# 비교를 해야 한다.\n",
    "# 간단한 문자열은 주소값이 같다고 나오는데 긴문자열의 경우 다르다고 나온다. \n"
   ]
  },
  {
   "cell_type": "code",
   "execution_count": 55,
   "metadata": {},
   "outputs": [],
   "source": [
    "a=\"동해물과 백두산이 \\\n",
    "마르고 닳도록\"\n",
    "b=\"\"\"\n",
    "동해물과 백두산이\n",
    "마르고 닳도록\n",
    "\"\"\""
   ]
  },
  {
   "cell_type": "code",
   "execution_count": null,
   "metadata": {},
   "outputs": [],
   "source": []
  }
 ],
 "metadata": {
  "kernelspec": {
   "display_name": "Python 3",
   "language": "python",
   "name": "python3"
  },
  "language_info": {
   "codemirror_mode": {
    "name": "ipython",
    "version": 3
   },
   "file_extension": ".py",
   "mimetype": "text/x-python",
   "name": "python",
   "nbconvert_exporter": "python",
   "pygments_lexer": "ipython3",
   "version": "3.6.5"
  }
 },
 "nbformat": 4,
 "nbformat_minor": 2
}
