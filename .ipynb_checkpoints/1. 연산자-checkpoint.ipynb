{
 "cells": [
  {
   "cell_type": "code",
   "execution_count": 7,
   "metadata": {},
   "outputs": [
    {
     "name": "stdout",
     "output_type": "stream",
     "text": [
      "['False', 'None', 'True', 'and', 'as', 'assert', 'break', 'class', 'continue', 'def', 'del', 'elif', 'else', 'except', 'finally', 'for', 'from', 'global', 'if', 'import', 'in', 'is', 'lambda', 'nonlocal', 'not', 'or', 'pass', 'raise', 'return', 'try', 'while', 'with', 'yield']\n",
      "33\n"
     ]
    }
   ],
   "source": [
    "import keyword\n",
    "print( keyword.kwlist )\n",
    "print(len(keyword.kwlist))"
   ]
  },
  {
   "cell_type": "code",
   "execution_count": 4,
   "metadata": {},
   "outputs": [
    {
     "name": "stdout",
     "output_type": "stream",
     "text": [
      "a\t b\t \n",
      "Interactive namespace is empty.\n"
     ]
    }
   ],
   "source": [
    "# a=10; b=20\n",
    "a,b=10,20\n",
    "a,b=b,a  #교환\n",
    "# 파이썬은 리턴값을 여러개 줄 수 있다.\n",
    "%who\n",
    "del a,b\n",
    "%who"
   ]
  },
  {
   "cell_type": "code",
   "execution_count": 6,
   "metadata": {
    "scrolled": true
   },
   "outputs": [
    {
     "name": "stdout",
     "output_type": "stream",
     "text": [
      "<class 'float'>\n",
      "10.0\n",
      "c : 65\td : 66\n"
     ]
    }
   ],
   "source": [
    "# 형변환\n",
    "a=10\n",
    "\n",
    "print( type( float(a)))\n",
    "print(( float(a)))\n",
    "\n",
    "c=65\n",
    "d=66\n",
    "\n",
    "# 문자열 뒤에 더하기는 붙여라는 뜻이다.\n",
    "print(\"c : \"+str(c)+\"\\t\"+\"d : \"+str(d) )\n"
   ]
  },
  {
   "cell_type": "code",
   "execution_count": 3,
   "metadata": {},
   "outputs": [
    {
     "name": "stdout",
     "output_type": "stream",
     "text": [
      "28\n"
     ]
    }
   ],
   "source": [
    "a=20\n",
    "b=12\n",
    "print(a | b)"
   ]
  }
 ],
 "metadata": {
  "kernelspec": {
   "display_name": "Python 3",
   "language": "python",
   "name": "python3"
  },
  "language_info": {
   "codemirror_mode": {
    "name": "ipython",
    "version": 3
   },
   "file_extension": ".py",
   "mimetype": "text/x-python",
   "name": "python",
   "nbconvert_exporter": "python",
   "pygments_lexer": "ipython3",
   "version": "3.6.5"
  }
 },
 "nbformat": 4,
 "nbformat_minor": 2
}
