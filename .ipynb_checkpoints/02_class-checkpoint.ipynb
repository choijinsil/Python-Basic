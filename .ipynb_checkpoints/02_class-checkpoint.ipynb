{
 "cells": [
  {
   "cell_type": "code",
   "execution_count": 38,
   "metadata": {},
   "outputs": [
    {
     "name": "stdout",
     "output_type": "stream",
     "text": [
      "1000 1000 1000\n",
      "공격받음! 생명력 =  990\n",
      "공격받음! 생명력 =  980\n",
      "공격!\n"
     ]
    }
   ],
   "source": [
    "# 케릭터 클래스 만들어보자\n",
    "\n",
    "class Character(object):\n",
    "    def __init__(self):\n",
    "        self.life = 1000\n",
    "        \n",
    "    def attacked(self):\n",
    "        self.life -= 10\n",
    "        print(u\"공격받음! 생명력 = \", self.life)\n",
    "        \n",
    "    def attack(self):\n",
    "        print(u\"공격!\")\n",
    "        \n",
    "if __name__ == \"__main__\":\n",
    "    a = Character();\n",
    "    b = Character();\n",
    "    c = Character();\n",
    "    # 모든 객체의 기본 생명력은 1000이다\n",
    "    print(a.life, b.life, c.life)\n",
    "    \n",
    "    # 공격을 당하면 라이프가 감소한다.\n",
    "    a.attacked()\n",
    "    a.attacked()\n",
    "    # 공격 명령\n",
    "    a.attack()\n",
    "    "
   ]
  },
  {
   "cell_type": "code",
   "execution_count": 43,
   "metadata": {},
   "outputs": [
    {
     "data": {
      "text/plain": [
       "1000"
      ]
     },
     "metadata": {},
     "output_type": "display_data"
    },
    {
     "data": {
      "text/plain": [
       "15"
      ]
     },
     "metadata": {},
     "output_type": "display_data"
    },
    {
     "name": "stdout",
     "output_type": "stream",
     "text": [
      "공격받음! 생명력 =  990\n",
      "공격받음(마법사 *2) 생명력 =  980\n",
      "육탄공격\n",
      "마법 공격\n"
     ]
    }
   ],
   "source": [
    "# 상속을 받아서 만들어보자.\n",
    "# Warrior와 Wizard를 만들어보자\n",
    "# 워리어랑 위자드는 life속성은 없지만 부모한테 있으므로 사용이 가능하다\n",
    "class Warrior(Character):\n",
    "    def __init__(self):\n",
    "        super(Warrior, self).__init__()\n",
    "        self.strength = 15\n",
    "        self.intelligence = 5\n",
    "    # 메서드 오버라이드\n",
    "    def attack(self):\n",
    "        print(\"육탄공격\")\n",
    "        \n",
    "class Wizard(Character):\n",
    "    def __init__(self):\n",
    "        super(Wizard, self).__init__()\n",
    "        self.strength = 5\n",
    "        self.intelligence = 15\n",
    "    # 메서드 오버라이드\n",
    "    def attacked(self):\n",
    "        self.life -= 20\n",
    "        print(u\"공격받음(마법사 *2) 생명력 = \", self.life)\n",
    "    # 메서드 오버라이드\n",
    "    def attack(self):\n",
    "        print(\"마법 공격\")\n",
    "        \n",
    "if __name__ == \"__main__\":        \n",
    "    d = Warrior()\n",
    "    e = Wizard()\n",
    "    display(d.life, d.strength)\n",
    "    \n",
    "    # 워리어와 마법사는 공격 받을 때 데미지 틀림\n",
    "    d.attacked()\n",
    "    e.attacked()\n",
    "    # 워리어와 마법사의 공격\n",
    "    d.attack()\n",
    "    e.attack()"
   ]
  },
  {
   "cell_type": "code",
   "execution_count": null,
   "metadata": {},
   "outputs": [],
   "source": []
  }
 ],
 "metadata": {
  "kernelspec": {
   "display_name": "Python 3",
   "language": "python",
   "name": "python3"
  },
  "language_info": {
   "codemirror_mode": {
    "name": "ipython",
    "version": 3
   },
   "file_extension": ".py",
   "mimetype": "text/x-python",
   "name": "python",
   "nbconvert_exporter": "python",
   "pygments_lexer": "ipython3",
   "version": "3.6.5"
  }
 },
 "nbformat": 4,
 "nbformat_minor": 2
}
