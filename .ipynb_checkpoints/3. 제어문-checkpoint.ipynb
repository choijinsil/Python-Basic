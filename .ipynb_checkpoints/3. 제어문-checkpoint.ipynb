{
 "cells": [
  {
   "cell_type": "code",
   "execution_count": null,
   "metadata": {},
   "outputs": [],
   "source": [
    "# 파이썬은 참이어도 거짓이어도 실행된다.\n",
    "# 제어문\n",
    "# 조건문\n",
    "'''\n",
    "if (조건){참;}\n",
    "else {거짓;}\n",
    "\n",
    "if 조건:\n",
    "    참\n",
    "elif 조건:\n",
    "    참\n",
    "else :\n",
    "    거짓\n",
    "    \n",
    "파이썬은 스위치가 없다.\n",
    "\n",
    "switch(조건){\n",
    "case 값: 실행문; break;\n",
    "case 값: 실행문; break;\n",
    "...\n",
    "default: 실행문;\n",
    "}\n",
    "'''\n",
    "print()\n"
   ]
  },
  {
   "cell_type": "markdown",
   "metadata": {},
   "source": [
    "# num=int(input(\"정수: \"))\n",
    "if num>5:\n",
    "    print(\"크다\") #참\n",
    "else :\n",
    "    print(\"작다\") #거짓\n",
    "    \n",
    "if num<5:\n",
    "    print(\"작다\") # 참\n",
    "else:\n",
    "    print(\"크다\") # 거짓"
   ]
  },
  {
   "cell_type": "code",
   "execution_count": null,
   "metadata": {},
   "outputs": [],
   "source": [
    "num = int(input(\"정수: \"))\n",
    "\n",
    "if num%2==0:\n",
    "    print(\"짝수\")\n",
    "else:\n",
    "    print(\"홀수\")"
   ]
  },
  {
   "cell_type": "code",
   "execution_count": null,
   "metadata": {},
   "outputs": [],
   "source": [
    "# Y나 y가 입력되면 \"계속\"  출력 그 외에는 \"종료\" 출력\n",
    "yn= input(\"계속 할거냐[Y/y]:\")\n",
    "if yn==\"Y\" or yn==\"y\":\n",
    "    print(\"계속\")\n",
    "else:\n",
    "    print(\"종료\")"
   ]
  },
  {
   "cell_type": "code",
   "execution_count": null,
   "metadata": {},
   "outputs": [],
   "source": [
    "score=int(input(\"점수: \"))\n",
    "if score >= 90 and score <= 100:\n",
    "    print(\"A학점\")\n",
    "if score >= 80 and score < 90:\n",
    "    print(\"B학점\")\n",
    "if score >= 70 and score < 80:\n",
    "    print(\"C학점\")\n",
    "if score >= 60 and score < 70:\n",
    "    print(\"D학점\")\n",
    "if score >=0 and score < 60:\n",
    "    print(\"F학점\")\n",
    "\n"
   ]
  },
  {
   "cell_type": "code",
   "execution_count": 2,
   "metadata": {},
   "outputs": [
    {
     "name": "stdout",
     "output_type": "stream",
     "text": [
      "점수: 1077\n",
      "0부터 100사이만 입력하세요\n"
     ]
    }
   ],
   "source": [
    "# 단점: 범위에 없는 값을 입력하면 a학점이나 f학점이 나온다.\n",
    "\n",
    "score=int(input(\"점수: \"))\n",
    "if score>=0 and score <=100:\n",
    "    if score >=90:\n",
    "        print(\"A학점\")\n",
    "    elif score>=80:\n",
    "        print(\"B학점\")\n",
    "    elif score>=70:\n",
    "        print(\"C학점\")\n",
    "    elif score>=60:\n",
    "        print(\"D학점\")\n",
    "    else:\n",
    "        print(\"F학점\")\n",
    "else:\n",
    "    print(\"0부터 100사이만 입력하세요\")"
   ]
  }
 ],
 "metadata": {
  "kernelspec": {
   "display_name": "Python 3",
   "language": "python",
   "name": "python3"
  },
  "language_info": {
   "codemirror_mode": {
    "name": "ipython",
    "version": 3
   },
   "file_extension": ".py",
   "mimetype": "text/x-python",
   "name": "python",
   "nbconvert_exporter": "python",
   "pygments_lexer": "ipython3",
   "version": "3.6.5"
  }
 },
 "nbformat": 4,
 "nbformat_minor": 2
}
