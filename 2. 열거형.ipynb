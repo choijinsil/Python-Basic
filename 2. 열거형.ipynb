{
 "cells": [
  {
   "cell_type": "code",
   "execution_count": null,
   "metadata": {},
   "outputs": [],
   "source": [
    "# 거듭제곱 연산자\n",
    "print (5**3)\n",
    "\n",
    "# 산술연산자\n",
    "print(5 / 2) \n",
    "print(5//2) #몫\n",
    "print(5%1) #나머지"
   ]
  },
  {
   "cell_type": "code",
   "execution_count": 1,
   "metadata": {},
   "outputs": [
    {
     "name": "stdout",
     "output_type": "stream",
     "text": [
      "True\n"
     ]
    }
   ],
   "source": [
    "# 뒤의 단어에 앞의 단어가 포함되어 있는지?\n",
    "print(\"H\" in \"Hello Python!!!\")\n",
    "# 소대문자는 다른 것으로 취급한다."
   ]
  },
  {
   "cell_type": "code",
   "execution_count": 2,
   "metadata": {},
   "outputs": [
    {
     "name": "stdout",
     "output_type": "stream",
     "text": [
      "True\n",
      "True\n",
      "a : 0x1681861ae30\n",
      "b : 0x1681861ae30\n",
      "===============\n",
      "False\n",
      "True\n",
      "c : 0x16818630430\n",
      "b : 0x16818630030\n"
     ]
    }
   ],
   "source": [
    "# is 주소비교,  == 값비교\n",
    "a=\"123\"\n",
    "b=\"123\"\n",
    "\n",
    "print(a is b)\n",
    "print(a == b)\n",
    "print(\"a : \"+str(hex(id(a))))\n",
    "print(\"b : \"+str(hex(id(b))))\n",
    "print(\"=\"*15)\n",
    "c=\"HelloPython!!!\"\n",
    "d=\"HelloPython!!!\"\n",
    "\n",
    "#주소비교\n",
    "print(c is d)\n",
    "\n",
    "# 값 비교\n",
    "print(c==d)\n",
    "print(\"c : \"+str(hex(id(c))))\n",
    "print(\"b : \"+str(hex(id(d))))\n",
    "# 다른언어에서는 메모리를 하나만 만들지만 파이썬에서는 메모리를 두개 만든다. ==등호 사용시 주소비교를 해버리기 때문에 실제론 데이터 \n",
    "# 비교를 해야 한다.\n",
    "# 간단한 문자열은 주소값이 같다고 나오는데 긴문자열의 경우 다르다고 나온다. \n"
   ]
  },
  {
   "cell_type": "code",
   "execution_count": 2,
   "metadata": {},
   "outputs": [],
   "source": [
    "a=\"동해물과 백두산이 \\\n",
    "마르고 닳도록\"\n",
    "b=\"\"\"\n",
    "동해물과 백두산이\n",
    "마르고 닳도록\n",
    "\"\"\""
   ]
  },
  {
   "cell_type": "code",
   "execution_count": 7,
   "metadata": {},
   "outputs": [
    {
     "name": "stdout",
     "output_type": "stream",
     "text": [
      "ABCDEF\n",
      "ABC DEF\n",
      "abcdef\n",
      "ABC10\n"
     ]
    }
   ],
   "source": [
    "# 이런 연산은 문자열만 가능한 것이지, 숫자의 경우 에러가 난다. \n",
    "print(\"ABC\"+\"DEF\")\n",
    "print(\"ABC\",\"DEF\")\n",
    "print(\"abc\"\"def\")\n",
    "\n",
    "# print(\"ABC\"+10) 이런 수식은 안된다.\n",
    "print(\"ABC\"+str(10)) # 숫자로 변환해야 한다."
   ]
  },
  {
   "cell_type": "code",
   "execution_count": null,
   "metadata": {},
   "outputs": [],
   "source": [
    "name=\"홍길동\"\n",
    "age=30\n",
    "print(\"이름: \"+name+\"\\t\"+\"나이: \"+str(age) ) #age를 형변환 해줘야 한다.\n",
    "\n",
    "# print는 기본적으로 줄바꿈이 포함되어 있다.\n",
    "print(\"이름: \"+name)\n",
    "print(\"나이: \"+str(age))\n",
    "\n",
    "print(\"이름: \"+name, end=\"\\t\") # 출력시 옆에 나란히 찍고 싶으면 end속성을 주면 된다.\n",
    "print(\"나이: \"+str(age))\n",
    "print(\"이름: %s\\t나이: %d\" %(name, age)) # 변환문자, 자바의 출력방식인데 파이썬에서도 지원하는것\n",
    "\n",
    "# format형식\n",
    "print(\"이름: {0}\\t 나이: {1}\".format(name, age))\n",
    "print(\"이름: {name}\\t 나이: {age}\".format(name=\"이순신\",age=40))\n"
   ]
  },
  {
   "cell_type": "code",
   "execution_count": 3,
   "metadata": {
    "scrolled": true
   },
   "outputs": [
    {
     "name": "stdout",
     "output_type": "stream",
     "text": [
      "Hello Python!!\n",
      "Python!!\n",
      "Hello\n",
      "thon!!\n",
      "Hello\n",
      "Hello Python!\n",
      "Hello Python!!\n"
     ]
    }
   ],
   "source": [
    "# 슬라이싱 0부터 시작한다.\n",
    "s=\"Hello Python!!\"\n",
    "print(s)\n",
    "print(s[6:])\n",
    "print(s[:5])\n",
    "print(s[-6:])\n",
    "print(s[0:5])\n",
    "print(s[0:-1]) #한자리 빼고 다 찍기\n",
    "print(s[:]) # 문자 전체 출력"
   ]
  },
  {
   "cell_type": "code",
   "execution_count": null,
   "metadata": {},
   "outputs": [],
   "source": [
    "str= \"Hello World!\"\n",
    "\n",
    "print(len(str)) # 문자가 몇개있니?\n",
    "print(str.count(\"!\")) # 문자안에 !가 몇개 들어있니?\n",
    "print(str.find(\"o\")) #  문자안에 o가 4번째에 있다.\n",
    "\n",
    "print(\",\".join(str)) # 문자하니글자 마다 ,를 줘라!\n",
    "print(str.upper()) # 문자를 대문자로 바꿔\n",
    "print(str.lower()) #문자를 소문자로 바꿔라!\n",
    "print(str.capitalize()) # 첫글자만 대문자로 바꿔라!\n",
    "\n",
    "str=\"    a    a    a    a\"\n",
    "print(str) # 공백도 문자로 인식한다.\n",
    "print(str.lstrip()) # 왼쪽의 트림제거\n",
    "print(str.rstrip()) # 오른쪽의 트림제거\n",
    "print(str.strip()) # 양쪽의 트림제거\n",
    "\n",
    "str=\"aaa1234\"\n",
    "print(str.isalnum())\n",
    "print(str.isalpha())\n",
    "print(str.isdigit()) # 전부다 숫자니?\n",
    "\n",
    "str=\"a,b,c,d,d\"\n",
    "print(str.split(\",\")) # , 기준으로 문자열을 자르자 . CSV처리에 유용하다.\n"
   ]
  },
  {
   "cell_type": "code",
   "execution_count": null,
   "metadata": {},
   "outputs": [],
   "source": [
    "# 리스트\n",
    "fruits = [ \"apple\", \"pear\", \"banana\", \"mango\", \"orange\" ]\n",
    "print( list )\n",
    "print( fruits[0] )\n",
    "print( fruits[:] )\n",
    "print( fruits[1:3] )\n",
    "print( fruits[-1] )\n",
    "for fruit in fruits : \n",
    "    print( fruit )\n",
    "    \n",
    "print( \"요기요기>>\"+ fruits[3][0] )\n",
    "print( fruits[4][1:5] )\n",
    "\n",
    "print( len( fruits ) )\n",
    "print( max( fruits ) )\n",
    "print( min( fruits ) )\n",
    "\n",
    "fruits.append( \"apple\" )\n",
    "print( fruits.count( \"apple\" ) )\n",
    "print( fruits.index( \"mango\" ) )\n",
    "print( fruits.insert( 2, \"kiwi\" ) )\n",
    "\n",
    "print(\"pop: \"+ fruits.pop() )\n",
    "print( fruits.remove(\"kiwi\" ) )\n",
    "print( fruits[:] )\n",
    "fruits.sort()\n",
    "print( fruits[:] ) "
   ]
  },
  {
   "cell_type": "code",
   "execution_count": null,
   "metadata": {},
   "outputs": [],
   "source": [
    "f=[\"apple\",\"pear\",\"banana\"]\n",
    "g=[\"mango\",\"orange\",\"kiwi\"]\n",
    "f.append(g)\n",
    "print(f[:])\n",
    "print(f[3][2])\n"
   ]
  },
  {
   "cell_type": "code",
   "execution_count": null,
   "metadata": {},
   "outputs": [],
   "source": [
    "# 튜플 - 추가 삭제가 불가능하다.\n",
    "pets=(\"dog\",\"cat\",\"mouse\",\"fish\",\"spider\")\n",
    "print(pets)\n",
    "print(pets[0])\n",
    "print(pets[1:3])\n",
    "\n",
    "# pets=pets, \"monkey\" # 추가가 아닌 새로 만든 것이다. \n",
    "# pet +=\"monkey\" # \n",
    "# print(pets)\n",
    "\n",
    "s=\"ABC\"\n",
    "s+=\"DEF\"\n",
    "print(s)\n",
    "\n",
    "animal=list(pets) # pets을 list로 변경하면 추가 삭제가 가능하다.\n",
    "animal+=[\"fly\"]\n",
    "print(animal)\n",
    "\n",
    "pets=tuple(animal)\n",
    "print(pets)\n",
    "\n",
    "a,b,c,d,e,f=pets\n",
    "print(a)"
   ]
  },
  {
   "cell_type": "code",
   "execution_count": null,
   "metadata": {},
   "outputs": [],
   "source": [
    "# dictionary 사전 - Map\n",
    "# 반복문을 돌릴수 없다.\n",
    "\n",
    "url={\n",
    "    \"naver\" : \"www.naver.com\",\n",
    "    \"daum\" : \"www.daum.net\",\n",
    "    \"google\" : \"www.google.co.kr\",\n",
    "    \"nate\" : \"www.nate.com\",\n",
    "    \"encore\" : {\n",
    "    \"first\" : \"www.encore.com\",\n",
    "    \"second\" : \"www.playdata.com\"\n",
    "    }\n",
    "}\n",
    "print(len(url))\n",
    "print(url[\"daum\"])\n",
    "print(url.get(\"naver\"))\n",
    "\n",
    "# key들 뽑아오기\n",
    "print(type(url.keys()))\n",
    "print(type(url.values()))\n",
    "print(type(url.items()))\n",
    "\n",
    "\n",
    "# key for문\n",
    "for key in url.keys():\n",
    "    print(key)\n",
    "    \n",
    "for value in url.values():\n",
    "    print(value)\n",
    "   \n",
    "for item in url.items():\n",
    "    print(item[0],\":\",item[1])    \n",
    "\n",
    "print(url.get(\"encore\")[\"first\"])\n",
    "print(url.get(\"encore\").get(\"second\"))\n",
    "email=dict([2,4,6,7],[\"kim\",\"lee\",\"park\",\"hong\"])"
   ]
  },
  {
   "cell_type": "code",
   "execution_count": null,
   "metadata": {},
   "outputs": [],
   "source": [
    "# set\n",
    "countries= set([\"korea\",\"china\",\"japan\",\"vietnam\"])\n",
    "print(len(countries))\n",
    "# print(countries[0]) # 불가능하다. set이기에\n",
    "nations=countries.copy()\n",
    "countries.remove(\"japan\")\n",
    "countries.remove(\"china\")\n",
    "countries.add(\"bhutan\")\n",
    "countries.add(\"thailand\")\n",
    "print(countries)\n",
    "print(nations)\n",
    "\n",
    "# 파이썬에만 있는 합집합이다.\n",
    "union=countries | nations\n",
    "print(union)\n",
    "# 교집합\n",
    "inter=countries & nations\n",
    "print(inter)\n",
    "# 차집합 (-교집합)\n",
    "minus=countries - nations\n",
    "print(minus)"
   ]
  },
  {
   "cell_type": "code",
   "execution_count": null,
   "metadata": {},
   "outputs": [
    {
     "name": "stdout",
     "output_type": "stream",
     "text": [
      "정수입력: 43\n"
     ]
    }
   ],
   "source": [
    "# 입력\n",
    "a=input(\"정수입력: \")\n",
    "b=input(\"정수 입력: \")\n",
    "    \n",
    "print(eval(a) + eval(b))\n",
    "        "
   ]
  }
 ],
 "metadata": {
  "kernelspec": {
   "display_name": "Python 3",
   "language": "python",
   "name": "python3"
  },
  "language_info": {
   "codemirror_mode": {
    "name": "ipython",
    "version": 3
   },
   "file_extension": ".py",
   "mimetype": "text/x-python",
   "name": "python",
   "nbconvert_exporter": "python",
   "pygments_lexer": "ipython3",
   "version": "3.6.5"
  }
 },
 "nbformat": 4,
 "nbformat_minor": 2
}
