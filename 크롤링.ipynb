{
 "cells": [
  {
   "cell_type": "code",
   "execution_count": 9,
   "metadata": {},
   "outputs": [
    {
     "data": {
      "text/plain": [
       "{'아일라': '9.55',\n",
       " '당갈': '9.55',\n",
       " '원더': '9.41',\n",
       " '허스토리': '9.41',\n",
       " '레옹': '9.37',\n",
       " '동주': '9.35',\n",
       " '극장판 헬로카봇 : 백악기 시대': '9.29',\n",
       " '어느 가족': '9.27',\n",
       " '인크레더블 2': '9.27',\n",
       " '바람과 함께 사라지다': '9.22',\n",
       " '벤허': '9.22',\n",
       " '파수꾼': '9.19',\n",
       " '미션 임파서블: 폴아웃': '9.15',\n",
       " '레이': '9.03',\n",
       " '싱 스트리트': '9.01',\n",
       " '어벤져스: 인피니티 워': '8.96',\n",
       " '알로, 슈티': '8.89',\n",
       " '미션': '8.89',\n",
       " '소공녀': '8.88',\n",
       " '미드나잇 선': '8.84',\n",
       " '그렇게 아버지가 된다': '8.83',\n",
       " '신비아파트: 금빛 도깨비와 비밀의 동굴': '8.83',\n",
       " '리틀 포레스트': '8.74',\n",
       " '바닷마을 다이어리': '8.74',\n",
       " '부르고뉴, 와인에서 찾은 인생': '8.71',\n",
       " '블레이드 2': '8.69',\n",
       " '앤트맨과 와스프': '8.68',\n",
       " '걸어도 걸어도': '8.65',\n",
       " '건축학개론': '8.65',\n",
       " '태풍이 지나가고': '8.60',\n",
       " '개들의 섬': '8.60',\n",
       " '시카리오: 데이 오브 솔다도': '8.53',\n",
       " '오늘 밤, 로맨스 극장에서': '8.51',\n",
       " '이별의 아침에 약속의 꽃을 장식하자': '8.51',\n",
       " '500일의 썸머': '8.38',\n",
       " '마녀': '8.22',\n",
       " '판의 미로 - 오필리아와 세 개의 열쇠': '8.20',\n",
       " '스카이스크래퍼': '8.18',\n",
       " '나의 산티아고': '8.13',\n",
       " '쥬라기 월드: 폴른 킹덤': '8.13',\n",
       " '아이 엠 러브': '7.95',\n",
       " '변산': '7.92',\n",
       " '파리로 가는 길': '7.91',\n",
       " '조용한 가족': '7.86',\n",
       " '한여름의 판타지아': '7.83',\n",
       " '세 번째 살인': '7.79',\n",
       " '어거스트 : 가족의 초상': '7.78',\n",
       " '신과함께-인과 연': '7.63',\n",
       " '독전': '7.61',\n",
       " '단지 세상의 끝': '7.45'}"
      ]
     },
     "execution_count": 9,
     "metadata": {},
     "output_type": "execute_result"
    }
   ],
   "source": [
    "from bs4 import BeautifulSoup\n",
    "from urllib.request import urlopen\n",
    "\n",
    "url = \"http://movie.naver.com/movie/sdb/rank/rmovie.nhn?sel=cur&date=20180802\" \n",
    "\n",
    "page = urlopen(url)\n",
    "soup = BeautifulSoup(page, \"html.parser\")\n",
    "soup\n",
    "\n",
    "title_n = soup.find_all('div', 'tit5')\n",
    "\n",
    "# 전체 영화의 제목 뽑아옴\n",
    "movie_name = [soup.find_all('div', 'tit5')[n].a.string for n in range(0, len(title_n))]\n",
    "\n",
    "# 전체 순위의 평점 뽑아옴\n",
    "movie_point = [soup.find_all('td', 'point')[n].string for n in range(0, len(title_n))]\n",
    "\n",
    "movie_dict = {}\n",
    "\n",
    "for i in range(0, len(title_n)): \n",
    "    movie_dict[movie_name[i]] = movie_point[i]\n",
    "\n",
    "movie_dict"
   ]
  },
  {
   "cell_type": "code",
   "execution_count": null,
   "metadata": {},
   "outputs": [],
   "source": []
  }
 ],
 "metadata": {
  "kernelspec": {
   "display_name": "Python 3",
   "language": "python",
   "name": "python3"
  },
  "language_info": {
   "codemirror_mode": {
    "name": "ipython",
    "version": 3
   },
   "file_extension": ".py",
   "mimetype": "text/x-python",
   "name": "python",
   "nbconvert_exporter": "python",
   "pygments_lexer": "ipython3",
   "version": "3.6.5"
  }
 },
 "nbformat": 4,
 "nbformat_minor": 2
}
