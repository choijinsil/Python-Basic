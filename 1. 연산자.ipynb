{
 "cells": [
  {
   "cell_type": "code",
   "execution_count": null,
   "metadata": {
    "scrolled": true
   },
   "outputs": [],
   "source": [
    "import keyword\n",
    "print( keyword.kwlist )\n",
    "print(len(keyword.kwlist))"
   ]
  },
  {
   "cell_type": "code",
   "execution_count": 7,
   "metadata": {},
   "outputs": [
    {
     "name": "stdout",
     "output_type": "stream",
     "text": [
      "['False', 'None', 'True', 'and', 'as', 'assert', 'break', 'class', 'continue', 'def', 'del', 'elif', 'else', 'except', 'finally', 'for', 'from', 'global', 'if', 'import', 'in', 'is', 'lambda', 'nonlocal', 'not', 'or', 'pass', 'raise', 'return', 'try', 'while', 'with', 'yield']\n",
      "33\n"
     ]
    }
   ],
   "source": [
    "import keyword\n",
    "print( keyword.kwlist )\n",
    "print(len(keyword.kwlist))"
   ]
  },
  {
   "cell_type": "code",
   "execution_count": null,
   "metadata": {},
   "outputs": [],
   "source": [
    "a=10\n",
    "print( type(a))\n",
    "a=\"abc\"\n",
    "print( type(a))\n",
    "\n",
    "b=10.5\n",
    "print( type(b))\n",
    "c=123456789123456789\n",
    "print( type(c))\n",
    "d=10+10j\n",
    "print( type(d))\n",
    "print( type(\"abc\"))\n",
    "print( type('abc'))\n",
    "e='a'; print(e)\n",
    "\n",
    "f=\"asdfzxcv\"#한줄이 넘어간다면 문자 끝에 역슬래쉬를 붙여 줘야 한다.\n",
    "print(f)\n",
    "\n",
    "g=\"abc\"\n",
    "print(g)\n",
    "\n",
    "# a=10; b=20\n",
    "a,b=10,20\n",
    "a,b=b,a  #교환\n",
    "# 파이썬은 리턴값을 여러개 줄 수 있다.\n",
    "%who\n",
    "del a,b\n",
    "%who\n",
    "c?\n",
    "help c? "
   ]
  },
  {
   "cell_type": "code",
   "execution_count": 24,
   "metadata": {
    "scrolled": true
   },
   "outputs": [
    {
     "name": "stdout",
     "output_type": "stream",
     "text": [
      "<class 'float'>\n",
      "10.0\n",
      "<class 'int'>\n",
      "10\n",
      "65\n",
      "A\n",
      "65\n",
      "131\n",
      "AB\n",
      "6566\n",
      "6566\n",
      "c : 65\td : 66\n"
     ]
    }
   ],
   "source": [
    "# 형변환\n",
    "a=10\n",
    "\n",
    "print( type( float(a)))\n",
    "print(( float(a)))\n",
    "\n",
    "# float을 int로 변환시 소수점 아래가 잘린다.\n",
    "b=10.5\n",
    "print( type(int(b)))\n",
    "print( int(b))\n",
    "\n",
    "c=65\n",
    "print(c)\n",
    "\n",
    "print(chr(c))\n",
    "\n",
    "print(str(c))\n",
    "\n",
    "d=66\n",
    "print(c+d)\n",
    "# 숫자를 문자로 변환해서 더하면 문자 결과가 나온다.\n",
    "print(chr(c)+chr(d))\n",
    "# 원래 문자열+문자열 불가능함\n",
    "# \n",
    "print(\"65\"+\"66\")\n",
    "print('65'+'66')\n",
    "# 문자열 뒤에 더하기는 붙여라는 뜻이다.\n",
    "print(\"c : \"+str(c)+\"\\t\"+\"d : \"+str(d) )\n",
    "\n"
   ]
  },
  {
   "cell_type": "code",
   "execution_count": 25,
   "metadata": {},
   "outputs": [
    {
     "name": "stdout",
     "output_type": "stream",
     "text": [
      "0b10100\n",
      "0o24\n",
      "0x14\n"
     ]
    }
   ],
   "source": [
    "# 진수 변환\n",
    "a=20\n",
    "print(bin(a))\n",
    "print(oct(a))\n",
    "print(hex(a))"
   ]
  },
  {
   "cell_type": "code",
   "execution_count": 31,
   "metadata": {},
   "outputs": [
    {
     "name": "stdout",
     "output_type": "stream",
     "text": [
      "2.5\n",
      "2\n",
      "진실\n"
     ]
    }
   ],
   "source": [
    "print(5/2.0)\n",
    "print(5//2)\n",
    "\n",
    "if 1:\n",
    "    print(\"진실\")\n",
    "else:\n",
    "    print(\"거짓\")\n",
    "\n"
   ]
  },
  {
   "cell_type": "code",
   "execution_count": 3,
   "metadata": {},
   "outputs": [
    {
     "name": "stdout",
     "output_type": "stream",
     "text": [
      "28\n"
     ]
    }
   ],
   "source": [
    "a=20\n",
    "b=12\n",
    "print(a | b)"
   ]
  }
 ],
 "metadata": {
  "kernelspec": {
   "display_name": "Python 3",
   "language": "python",
   "name": "python3"
  },
  "language_info": {
   "codemirror_mode": {
    "name": "ipython",
    "version": 3
   },
   "file_extension": ".py",
   "mimetype": "text/x-python",
   "name": "python",
   "nbconvert_exporter": "python",
   "pygments_lexer": "ipython3",
   "version": "3.6.5"
  }
 },
 "nbformat": 4,
 "nbformat_minor": 2
}
