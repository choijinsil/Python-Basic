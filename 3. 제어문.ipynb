{
 "cells": [
  {
   "cell_type": "code",
   "execution_count": null,
   "metadata": {},
   "outputs": [],
   "source": [
    "# Y나 y가 입력되면 \"계속\" 출력 그 외에는 \"종료\" 출력\n",
    "yn = input( \"계속할거냐[Y/y] : \")\n",
    "if yn == 'Y' or yn == 'y' : # |는 정수비교할땜나 사용\n",
    "    print( \"계속\" )\n",
    "else :\n",
    "    print( \"종료\" )"
   ]
  },
  {
   "cell_type": "code",
   "execution_count": null,
   "metadata": {},
   "outputs": [],
   "source": [
    "# 이걸 사용\n",
    "score = int( input( \"점수 : \" ) )\n",
    "if score >= 0 and score <= 100 :\n",
    "    if score >= 90 : \n",
    "        print( \"A학점\" )\n",
    "    elif score >= 80 :\n",
    "        print( \"B학점\" )\n",
    "    elif score >= 70 :\n",
    "        print( \"C학점\" )\n",
    "    elif score >= 60 :\n",
    "        print( \"D학점\" )\n",
    "    else :\n",
    "        print( \"F학점\" )\n",
    "else :\n",
    "    print( \"0~100 사이만 입력하세요\" )"
   ]
  },
  {
   "cell_type": "code",
   "execution_count": null,
   "metadata": {
    "scrolled": true
   },
   "outputs": [],
   "source": [
    "# for\n",
    "for i in range( 1, 10 ) :\n",
    "    print( i, end=\"\\t\")\n",
    "print()\n",
    "for i in range( 10 ) :\n",
    "    print ( i, end=\"\\t\")\n",
    "print()\n",
    "for i in range( 1, 11, 2) :\n",
    "    print( i, end=\"\\t\")\n",
    "print()\n",
    "    \n",
    "# 10 ~ 1\n",
    "for i in range( 10, 0, -1) :\n",
    "    print( i, end=\"\\t\")\n",
    "print()\n",
    "\n",
    "for i in range( 65, 91) :\n",
    "    print( chr( i ), end=\"  \")\n",
    "print()\n",
    "\n",
    "# 1 ~ 10까지 합\n",
    "sum = 0\n",
    "for i in range( 1, 11 ) :\n",
    "    sum += i\n",
    "print( \"합 :\", sum )\n",
    "# print( \"합 : \" + str( sum ) )\n",
    "\n",
    "for i in range( 1, 10 ) :\n",
    "    print( i , end=\"\\t\" )\n",
    "else : \n",
    "    print( \"반복문 끝\" )"
   ]
  },
  {
   "cell_type": "code",
   "execution_count": null,
   "metadata": {
    "tags": [
     "문자열찾기"
    ]
   },
   "outputs": [],
   "source": [
    "s = \"ABCDE\"\n",
    "for ch in s :     # 열거형 - 문자열\n",
    "    print( ch, end=\" \" )\n",
    "print()\n",
    "\n",
    "s = '''\n",
    "3월 14일은 '콩팥의 날'이다.\n",
    "콩팥은 몸속 노폐물을 걸러내 소변으로 배출하고\n",
    "체액과 전해질을 정상으로 유지하는 기능을 한다.\n",
    "콩팥이 망가지는 대표적인 병이 '만성콩팥병'이다.\n",
    "3개월 이상 콩팥 기능이 떨어지는 질환으로\n",
    "요독, 부종, 빈혈, 혈압 상승 등의 증상을 동반한다.\n",
    "말기가 돼서야 증상이 나타나는데,\n",
    "당뇨병이나 고혈압 등 위험 인자를 가지고 있는 환자는\n",
    "반드시 정기적인 검사를 통해 콩팥 상태를 확인해야 한다.\n",
    "'''\n",
    "c = input( \"찾을 문자 : \" )\n",
    "cnt = 0\n",
    "for ch in s :\n",
    "    if ch == c : \n",
    "        cnt += 1\n",
    "print( \"'\" + c + \"'\" + \"의 개수는 \" + str(cnt) + \"개\" )"
   ]
  },
  {
   "cell_type": "code",
   "execution_count": 1,
   "metadata": {},
   "outputs": [
    {
     "name": "stdout",
     "output_type": "stream",
     "text": [
      "홍길동 김유신 이순신 대조영 \n",
      "홍길동 이순신 \n"
     ]
    }
   ],
   "source": [
    "t = ( \"홍길동\", \"김유신\", \"이순신\", \"대조영\" )\n",
    "for name in t :                 # 나열형 - 튜플\n",
    "    print( name, end=\" \")\n",
    "print()\n",
    "\n",
    "for i in range( 0, len(t), 2 ) : \n",
    "    print( t[i], end=\" \")\n",
    "print()"
   ]
  },
  {
   "cell_type": "code",
   "execution_count": 2,
   "metadata": {},
   "outputs": [
    {
     "name": "stdout",
     "output_type": "stream",
     "text": [
      "개 고양이 토끼 거북이 \n",
      "개 고양이 토끼 거북이 \n",
      "[4, 16, 36, 64, 100]\n"
     ]
    }
   ],
   "source": [
    "pets = [ \"개\", \"고양이\", \"토끼\", \"거북이\" ]\n",
    "for pet in pets :               # 열거형 - 리스트\n",
    "    print( pet, end=\" \")\n",
    "print()\n",
    "\n",
    "for i in range( 0, len( pets ) ) : \n",
    "    print( pets[i], end=\" \" )\n",
    "print()\n",
    "\n",
    "# 리스트 축약\n",
    "li = [ i for i in range( 1, 11 ) ]\n",
    "l = [ i**2 for i in li if i%2==0]\n",
    "print( l )"
   ]
  },
  {
   "cell_type": "code",
   "execution_count": 3,
   "metadata": {},
   "outputs": [
    {
     "name": "stdout",
     "output_type": "stream",
     "text": [
      "미국 한국 중국 일본 \n",
      "0 : 미국\n",
      "1 : 한국\n",
      "2 : 중국\n",
      "3 : 일본\n",
      "\n",
      "100 : 미국\n",
      "101 : 한국\n",
      "102 : 중국\n",
      "103 : 일본\n",
      "\n"
     ]
    }
   ],
   "source": [
    "nations = set( [ \"한국\", \"미국\", \"중국\", \"일본\" ] )\n",
    "for nation in nations : \n",
    "    print( nation, end=\" \" )\n",
    "print()\n",
    "\n",
    "# for i in range( 0, len(nations) ) :\n",
    "#     print( nations[i], end=\" \")\n",
    "# print()\n",
    "\n",
    "for i, nation in enumerate( nations ) :\n",
    "    print( str( i ) + \" : \" + nation )\n",
    "print()\n",
    "\n",
    "for i, nation in enumerate( nations, 100) : \n",
    "    print( str( i ) + \" : \" + nation )\n",
    "print()"
   ]
  },
  {
   "cell_type": "code",
   "execution_count": 4,
   "metadata": {},
   "outputs": [
    {
     "name": "stdout",
     "output_type": "stream",
     "text": [
      "(1, 2, 3)\n",
      "(4, 5, 6)\n",
      "(7, 8, 9)\n",
      "(10, 11, 12)\n",
      "\n",
      "1 2 3\n",
      "4 5 6\n",
      "7 8 9\n",
      "10 11 12\n",
      "\n",
      "1 2 3 \n",
      "4 5 6 \n",
      "7 8 9 \n",
      "10 11 12 \n",
      "\n",
      "1 2 3 \n",
      "4 5 6 \n",
      "7 8 9 \n",
      "10 11 12 \n",
      "\n"
     ]
    }
   ],
   "source": [
    "# 다중 for문\n",
    "# 리스트 - 튜플\n",
    "lt = [ (1, 2, 3), (4, 5, 6), (7, 8, 9), (10, 11, 12) ]\n",
    "for t in lt : \n",
    "    print( t )\n",
    "print()\n",
    "\n",
    "for (a, b, c) in lt :    #리스트의 값이 튜플이면서 개수가 같을 때만 가능\n",
    "    print( a, b, c)\n",
    "print()\n",
    "\n",
    "for t in lt : \n",
    "    for d in t :\n",
    "        print(d, end=\" \")\n",
    "    print ()\n",
    "print()\n",
    "\n",
    "for i in range(0, len(lt) ) :     # 0 1 2 3\n",
    "    for j in range( 0, len(lt[i]) ) :\n",
    "        print(lt[i][j], end=\" \")\n",
    "    print ()\n",
    "print()"
   ]
  },
  {
   "cell_type": "code",
   "execution_count": null,
   "metadata": {},
   "outputs": [],
   "source": [
    "scores = [ 34, 76, 39, 45, 68, 88, 92, 32, 85, 90]\n",
    "# ~번 합격 ~번 불합격, 번호는 1번 부터\n",
    "# 60점이상합격\n",
    "\n",
    "for i in range( len( scores ) ) : \n",
    "    if scores[i] >= 60 :\n",
    "        print(\"%02d번 합격\" %(i+1))\n",
    "    else :\n",
    "        print(\"%02d번 불합격\" %(i+1))\n",
    "print()\n",
    "\n",
    "for i,score in enumerate( scores, 1 ) : \n",
    "    if score >= 60 :\n",
    "        print( str(i) + \"번 합격\")\n",
    "    else :\n",
    "        print( str(i) + \"번 불합격\")\n",
    "print()"
   ]
  },
  {
   "cell_type": "code",
   "execution_count": null,
   "metadata": {},
   "outputs": [],
   "source": [
    "names = { \n",
    "    \"a\" : \"홍길동\",\n",
    "    \"e\" : \"김유신\",\n",
    "    \"f\" : \"이순신\",\n",
    "    \"c\" : \"대조영\", \n",
    "    \"h\" : \"강감찬\" \n",
    "}\n",
    "\n",
    "# keys()   [ \"a\", \"e\", \"f\", \"c\", \"h\"]\n",
    "# values() [ \"홍길동\", \"김유신\", \"이순신\", \"대조영\", \"강감찬\" ]\n",
    "# items()  [ (\"a\",\"홍길동\"),(\"e\",\"김유신\"),(\"f\",\"이순신\"),(\"c\",\"대조영\"),(\"h\",\"강감찬\")]\n",
    "\n",
    "for key in names.keys() : \n",
    "    print( \"key : \" + key )\n",
    "    print( key + \" : \" + names.get( key ) )\n",
    "print()\n",
    "for value in names.values() : \n",
    "    print( value )\n",
    "print()\n",
    "for key, value in names.items() :\n",
    "    print( key + \":\" + value)\n",
    "print()\n",
    "\n",
    "# 딕셔너리 축약\n",
    "li = [ i for i in range( 10 ) ]\n",
    "print( li )\n",
    "\n",
    "di = { i:i*2 for i in range( 10 ) }\n",
    "print( di )"
   ]
  },
  {
   "cell_type": "code",
   "execution_count": null,
   "metadata": {},
   "outputs": [],
   "source": [
    "# while\n",
    "for i in range( 1, 11 ) :\n",
    "    print( i, end=\"\\t\" )\n",
    "print()\n",
    "\n",
    "i = 0\n",
    "while i<10 :\n",
    "    print( i, end=\"\\t\" )\n",
    "    i += 1\n",
    "else :\n",
    "    print( i, end=\"\\t\")\n",
    "print()\n",
    "\n",
    "i = 0\n",
    "while i<10 :\n",
    "    i += 1\n",
    "    print( i, end=\"\\t\" )\n",
    "print()\n",
    "\n",
    "i = 0\n",
    "while True : \n",
    "    i += 1\n",
    "    if i > 10 :\n",
    "        break\n",
    "    print( i, end=\"\\t\")\n",
    "print()"
   ]
  },
  {
   "cell_type": "code",
   "execution_count": null,
   "metadata": {},
   "outputs": [],
   "source": [
    "# 다중 for\n",
    "for i in range( 2, 10 ) :\n",
    "    print( str(i) + \"단\" )\n",
    "    for j in range( 1, 10 ) :\n",
    "        print( str(i) + \"*\" + str(j) + \" = \" + str(i*j))\n",
    "    print()\n",
    "print()"
   ]
  },
  {
   "cell_type": "code",
   "execution_count": null,
   "metadata": {
    "scrolled": true
   },
   "outputs": [],
   "source": [
    "for a in range( 2, 10 ) :\n",
    "    print( str(a) + \"단\", end=\"\\t\")\n",
    "print()\n",
    "\n",
    "for i in range( 1, 10 ) :\n",
    "    for j in range ( 2, 10 ) :\n",
    "        print( str(j) + \"*\" + str(i) + \"=\" + str(i*j), end=\"\\t\")\n",
    "    print()"
   ]
  },
  {
   "cell_type": "code",
   "execution_count": null,
   "metadata": {},
   "outputs": [],
   "source": [
    "import random\n",
    "for i in range( 0, 6 ) :\n",
    "    print( random.randint( 1, 45 ) )"
   ]
  },
  {
   "cell_type": "code",
   "execution_count": 6,
   "metadata": {},
   "outputs": [
    {
     "name": "stdout",
     "output_type": "stream",
     "text": [
      "값(0~9) : 5\n",
      "입력한 값이 큽니다.\n",
      "값(0~9) : 4\n",
      "입력한 값이 큽니다.\n",
      "값(0~9) : 6\n",
      "입력한 값이 큽니다.\n",
      "값(0~9) : 2\n",
      "입력한 값이 큽니다.\n",
      "값(0~9) : 1\n",
      "5번 만에 정답\n"
     ]
    }
   ],
   "source": [
    "import random\n",
    "a = random.randint(0, 9)\n",
    "cnt = 1\n",
    "while True :\n",
    "    b = int( input( \"값(0~9) : \" ) )\n",
    "    if b > a : \n",
    "        print(\"입력한 값이 큽니다.\")\n",
    "        cnt += 1\n",
    "    elif b < a:\n",
    "        print(\"입력한 값이 작습니다.\")\n",
    "        cnt += 1\n",
    "    else : \n",
    "        break\n",
    "print( str(cnt) + \"번 만에 정답\")"
   ]
  }
 ],
 "metadata": {
  "celltoolbar": "Tags",
  "kernelspec": {
   "display_name": "Python 3",
   "language": "python",
   "name": "python3"
  },
  "language_info": {
   "codemirror_mode": {
    "name": "ipython",
    "version": 3
   },
   "file_extension": ".py",
   "mimetype": "text/x-python",
   "name": "python",
   "nbconvert_exporter": "python",
   "pygments_lexer": "ipython3",
   "version": "3.6.5"
  }
 },
 "nbformat": 4,
 "nbformat_minor": 2
}
