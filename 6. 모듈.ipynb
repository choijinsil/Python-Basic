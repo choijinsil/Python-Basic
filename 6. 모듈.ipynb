{
 "cells": [
  {
   "cell_type": "code",
   "execution_count": null,
   "metadata": {},
   "outputs": [],
   "source": [
    "import mymodule\n",
    "print(\"버전 : \" + mymodule.__version__)\n",
    "print(\"이름 : \"+ mymodule.name)\n",
    "print(\"내용 : \"+mymodule.msg)\n",
    "mymodule.hello()\n",
    "mymodule.bye()\n"
   ]
  },
  {
   "cell_type": "code",
   "execution_count": null,
   "metadata": {},
   "outputs": [],
   "source": [
    "# 별칭을 준다.\n",
    "# import는 경로를 지정하는 것\n",
    "# \n",
    "import mymodule as m\n",
    "m.hello()\n",
    "m.bye()\n",
    "print(\"이름 : \"+m.name)\n"
   ]
  },
  {
   "cell_type": "code",
   "execution_count": null,
   "metadata": {},
   "outputs": [],
   "source": [
    "# from mymodule import hello,bye\n",
    "from mymodule import*\n",
    "hello()\n",
    "bye()"
   ]
  },
  {
   "cell_type": "code",
   "execution_count": null,
   "metadata": {},
   "outputs": [],
   "source": [
    "from mymodule import __version__ as v\n",
    "print(\"버젼 : \"+v)\n",
    "# 별칭을 따로 해주는 것도 가능하다.\n",
    "# \n",
    "from mymodule import hello as he, bye as by\n",
    "by()\n",
    "he()"
   ]
  },
  {
   "cell_type": "code",
   "execution_count": null,
   "metadata": {},
   "outputs": [],
   "source": [
    "import module.testmodule\n",
    "module.testmodule.hi()\n",
    "module.testmodule.good()\n",
    "module.testmodule.bad()"
   ]
  },
  {
   "cell_type": "code",
   "execution_count": null,
   "metadata": {},
   "outputs": [],
   "source": [
    "import module.testmodule as tm\n",
    "tm.hi()\n",
    "tm.good()\n",
    "tm.bad()"
   ]
  },
  {
   "cell_type": "code",
   "execution_count": null,
   "metadata": {},
   "outputs": [],
   "source": [
    "from module.testmodule import hi, good, bad\n",
    "hi()\n",
    "good()\n",
    "bad()"
   ]
  },
  {
   "cell_type": "code",
   "execution_count": 1,
   "metadata": {},
   "outputs": [
    {
     "name": "stdout",
     "output_type": "stream",
     "text": [
      "안녕\n",
      "좋아\n",
      "이름 : 이순신\n",
      "나이 : 30\n"
     ]
    }
   ],
   "source": [
    "# testuser는 클래스\n",
    "from module import testmodule, testuser\n",
    "testmodule.hi()\n",
    "testmodule.good()\n",
    "# testuser는 클래스라 객체 생성\n",
    "user=testuser.User(\"이순신\", 30)\n",
    "print(\"이름 : \"+user.getName())\n",
    "print(\"나이 : \"+str(user.getAge()))\n"
   ]
  },
  {
   "cell_type": "code",
   "execution_count": 2,
   "metadata": {},
   "outputs": [
    {
     "name": "stdout",
     "output_type": "stream",
     "text": [
      "이름 : 홍길동\n",
      "이름 : 10\n"
     ]
    }
   ],
   "source": [
    "from module.testuser import user\n",
    "user.setName(\"홍길동\")\n",
    "user.setAge(10)\n",
    "\n",
    "print(\"이름 : \"+user.getName())\n",
    "print(\"이름 : \"+str(user.getAge()))"
   ]
  },
  {
   "cell_type": "code",
   "execution_count": 4,
   "metadata": {},
   "outputs": [
    {
     "name": "stdout",
     "output_type": "stream",
     "text": [
      "이름 : 김유신\n",
      "나이 : 20\n"
     ]
    }
   ],
   "source": [
    "import sys\n",
    "# 패키지 폴더이름 - 모듈\n",
    "sys.path.insert(0,\"C:\\Python\\module\")\n",
    "import testuser as ts\n",
    "ts.user.setName(\"김유신\")\n",
    "ts.user.setAge(20)\n",
    "print(\"이름 : \"+ts.user.getName())\n",
    "print(\"나이 : \"+str(ts.user.getAge()))"
   ]
  },
  {
   "cell_type": "code",
   "execution_count": 9,
   "metadata": {},
   "outputs": [
    {
     "name": "stdout",
     "output_type": "stream",
     "text": [
      "이름: 홍길동\n",
      "나이: 30\n"
     ]
    }
   ],
   "source": [
    "import sys\n",
    "# 패키지 폴더이름 - 모듈\n",
    "sys.path.insert(0,\"C:\\Python\\module\")\n",
    "from testuser import user as us\n",
    "us.setName(\"홍길동\")\n",
    "us.setAge(30)\n",
    "print(\"이름: \"+ us.getName())\n",
    "print(\"나이: \"+str(us.getAge()))"
   ]
  },
  {
   "cell_type": "code",
   "execution_count": 28,
   "metadata": {},
   "outputs": [
    {
     "name": "stdout",
     "output_type": "stream",
     "text": [
      ".git\n",
      ".ipynb_checkpoints\n",
      "02_class.ipynb\n",
      "0_3. 제어문_190314\n",
      "1. 연산자.ipynb\n",
      "1. 연산자.py\n",
      "2. 열거형.ipynb\n",
      "2. 열거형.py\n",
      "3. 제어문.ipynb\n",
      "3. 제어문.py\n",
      "4. 함수.ipynb\n",
      "5. class.ipynb\n",
      "6. 모듈.ipynb\n",
      "execmodule.py\n",
      "module\n",
      "mymodule.py\n",
      "Python-Basic\n",
      "Untitled.ipynb\n",
      "__pycache__\n",
      "절대경로 : C:\\Python\n",
      "절대경로 : .\n"
     ]
    }
   ],
   "source": [
    "# OS 모듈\n",
    "import os\n",
    "# 현재폴더 사용, 제대로 출력하려면 반복문 사용\n",
    "for file in os.listdir(\".\"):\n",
    "    print(file)\n",
    "    \n",
    "# 파일 접근에 관한 허가권\n",
    "# 현재 폴더 밑에 test폴더 만들기\n",
    "path=\"./test\"\n",
    "if not os.path.exists(path) :\n",
    "    os.mkdir(path)\n",
    "# 현재 폴더 삭제\n",
    "if os.path.exists(path):\n",
    "    os.rmdir(\"./test\")\n",
    "    \n",
    "#file=\"/.test.txt\"\n",
    "os.stat(\".\")\n",
    "# 절대경로\n",
    "print(\"절대경로 : \"+os.path.abspath(\".\"))\n",
    "print(\"절대경로 : \"+os.path.basename(\".\"))"
   ]
  },
  {
   "cell_type": "code",
   "execution_count": 42,
   "metadata": {},
   "outputs": [
    {
     "name": "stdout",
     "output_type": "stream",
     "text": [
      "C:\\Python\\module\n",
      "C:\\Python\\module\n",
      "C:\\Python\\module\n",
      "C:\\Python\\module\testuser.py\n",
      "C:\\Python\\module\testuser.py\n",
      "C:\\Python\\module\n",
      "C:\\Python\\module\n",
      "\n",
      "C:\\Anaconda3\\python36.zip\n",
      "C:\\Anaconda3\\DLLs\n",
      "C:\\Anaconda3\\lib\n",
      "C:\\Anaconda3\n",
      "C:\\Anaconda3\\lib\\site-packages\n",
      "C:\\Anaconda3\\lib\\site-packages\\win32\n",
      "C:\\Anaconda3\\lib\\site-packages\\win32\\lib\n",
      "C:\\Anaconda3\\lib\\site-packages\\Pythonwin\n",
      "C:\\Anaconda3\\lib\\site-packages\\IPython\\extensions\n",
      "C:\\Users\\Playdata\\.ipython\n",
      "sys.version_info(major=3, minor=6, micro=5, releaselevel='final', serial=0)\n",
      "3.6\n",
      "C:\\Anaconda3\\lib\\site-packages\\ipykernel_launcher.py\n",
      "-f\n",
      "C:\\Users\\Playdata\\AppData\\Roaming\\jupyter\\runtime\\kernel-74bda83a-8154-47ec-bde6-2fb942ded00f.json\n",
      "<_io.TextIOWrapper name='<stdin>' mode='r' encoding='cp949'>\n",
      "<ipykernel.iostream.OutStream object at 0x0000016A6D266048>\n",
      "<ipykernel.iostream.OutStream object at 0x0000016A6D266240>\n"
     ]
    }
   ],
   "source": [
    "# sys 모듈\n",
    "import sys\n",
    "for path in sys.path:\n",
    "    print(path)\n",
    "# dir(sys)\n",
    "print(sys.version_info)\n",
    "# 설치한 파이선 버젼\n",
    "print(str(sys.version_info.major)+\".\"+str(sys.version_info.minor))\n",
    "\n",
    "for arg in sys.argv:\n",
    "    print(arg)\n",
    "    \n",
    "# sys.exit(0)\n",
    "# 쓸수 있는건 사전형태로 되어있다.\n",
    "# sys.modules\n",
    "\n",
    "# 표준 입출력들\n",
    "print(sys.stdin)\n",
    "print(sys.stdout)\n",
    "print(sys.stderr)\n",
    "\n",
    "# logging이란 것은?"
   ]
  },
  {
   "cell_type": "code",
   "execution_count": 61,
   "metadata": {},
   "outputs": [
    {
     "name": "stdout",
     "output_type": "stream",
     "text": [
      "Windows-10-10.0.17134-SP0\n",
      "C:\\Users\\Playdata\\testlog\n"
     ]
    }
   ],
   "source": [
    "# logging 모듈\n",
    "# 세가지를 import한다.\n",
    "# platform - 경로를 지정할때도 사용자의 경로를 얻어서 저장시키는게 맞다.\n",
    "\n",
    "import os, platform, logging\n",
    "print(platform.platform())\n",
    "\n",
    "# 만약 플랫폼의 \n",
    "if platform.platform().startswith(\"Windows\"):\n",
    "    # join 경로를 함축해서 쓰는것\n",
    "    # getenv 환경변수 값을 얻어와라 (\"사용자\")\n",
    "    logfile=os.path.join( os.getenv(\"HOMEDRIVE\"),os.getenv(\"HOMEPATH\"),\"testlog\")\n",
    "else:\n",
    "    # 환경변수값 얻어오는 것\n",
    "    logfile=os.path.join(os.getenv(\"HOME\"),\"test.log\")\n",
    "print(logfile)\n",
    "\n",
    "# 로그 파일을 다이렉트로 넣기 /를 사용\n",
    "logfile=\"C:/Python/test.log\"\n",
    "logging.basicConfig(\n",
    "# 변수를 사용해야 한다.\n",
    "level=logging.WARNING,\n",
    "format=\"%(asctime)s : %(levelname)s : %(message)s\",\n",
    "filename=logfile,\n",
    "# 쓰기모드 , \n",
    "filemode=\"a\"\n",
    ")\n",
    "logging.debug(\"프로그램 시작\")\n",
    "for i in range(100):\n",
    "    if i %10==0:\n",
    "        logging.info(\"실행중\")\n",
    "logging.warning(\"박복종료\")\n",
    "logging.error(\"에러발생\")\n",
    "logging.debug(\"프로그램 끝\")\n",
    "logging.critical(\"프로그램 종류\")"
   ]
  },
  {
   "cell_type": "code",
   "execution_count": 81,
   "metadata": {},
   "outputs": [
    {
     "name": "stdout",
     "output_type": "stream",
     "text": [
      "2019-03-18\n",
      "2019-03-18 15:02:43.714812\n",
      "2019년3월18일15시43초7148110\n",
      "48\n",
      "2019-04-17\n",
      "2019-03-18 15:02:43 Monday\n",
      "2019\n",
      "14\n"
     ]
    }
   ],
   "source": [
    "# datetime 모듈\n",
    "from datetime import datetime,date, time,timedelta\n",
    "print(date.today())\n",
    "print(datetime.today())\n",
    "now=datetime.now()\n",
    "print(\n",
    "    str(now.year)+\"년\"\n",
    "    +str(now.month)+\"월\"\n",
    "    +str(now.day)+\"일\"\n",
    "    +str(now.hour )+\"시\"\n",
    "    +str(now.second)+\"초\"\n",
    "    +str(now.microsecond)\n",
    "    +str(now.weekday()) # 월 0 ~일 6\n",
    ")\n",
    "\n",
    "print( now.day + 30)\n",
    "print( date.today()+timedelta(30))\n",
    "# 시간을 문자열로 바꿔준다.\n",
    "print(now.strftime(\"%Y-%m-%d %H:%M:%S %A\"))\n",
    "# 문자열 -> 시간\n",
    "dt=datetime.strptime(\"2019-03-18 14:56:30\",\"%Y-%m-%d %H:%M:%S\")\n",
    "print(dt.year)\n",
    "print(dt.hour)\n"
   ]
  },
  {
   "cell_type": "code",
   "execution_count": 126,
   "metadata": {},
   "outputs": [
    {
     "name": "stdout",
     "output_type": "stream",
     "text": [
      "27\t1\t18\t30\t30\t20\t\n",
      "8\t20\t37\t23\t43\t17\t\n",
      "K\tK\tO\tM\tH\tW\t\n"
     ]
    }
   ],
   "source": [
    "# random(컴퓨터가 발생시키는 난수\n",
    "import random\n",
    "# list사용시 중복 없앨 수 있다.\n",
    "for i in range(6):\n",
    "    print( int(random.random() * 45)+ 1,end=\"\\t\") # 1 ~ 45\n",
    "print()\n",
    "\n",
    "for i in range(6):\n",
    "    print(random.randint(1,45), end=\"\\t\")\n",
    "print()\n",
    "\n",
    "# 대문자로 출력\n",
    "for i in range(6):\n",
    "    print(chr(int(random.uniform(65,90))),end=\"\\t\")\n",
    "print()\n"
   ]
  },
  {
   "cell_type": "code",
   "execution_count": null,
   "metadata": {},
   "outputs": [],
   "source": []
  }
 ],
 "metadata": {
  "kernelspec": {
   "display_name": "Python 3",
   "language": "python",
   "name": "python3"
  },
  "language_info": {
   "codemirror_mode": {
    "name": "ipython",
    "version": 3
   },
   "file_extension": ".py",
   "mimetype": "text/x-python",
   "name": "python",
   "nbconvert_exporter": "python",
   "pygments_lexer": "ipython3",
   "version": "3.6.5"
  }
 },
 "nbformat": 4,
 "nbformat_minor": 2
}
